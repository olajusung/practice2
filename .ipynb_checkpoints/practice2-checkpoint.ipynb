{
 "cells": [
  {
   "cell_type": "code",
   "execution_count": 2,
   "metadata": {},
   "outputs": [
    {
     "name": "stdout",
     "output_type": "stream",
     "text": [
      "radious= 10\n",
      "diameter= 20\n",
      "area= 314.15000000000003\n",
      "volume= 4188.666666666666\n",
      "circumference= 62.830000000000005\n"
     ]
    }
   ],
   "source": [
    "#OLAJUSUNG\n",
    "\n",
    "r = 10\n",
    "pi = 3.1415\n",
    "\n",
    "c = 2 * pi * r\n",
    "d = r * 2\n",
    "a = pi * r * r\n",
    "v = 4/3 * pi * r * r * r\n",
    "\n",
    "print(\"radious=\", r)\n",
    "print(\"diameter=\", d)\n",
    "print(\"area=\", a)\n",
    "print(\"volume=\", v)\n",
    "print(\"circumference=\", c)"
   ]
  },
  {
   "cell_type": "code",
   "execution_count": null,
   "metadata": {
    "collapsed": true
   },
   "outputs": [],
   "source": []
  }
 ],
 "metadata": {
  "kernelspec": {
   "display_name": "Python 3",
   "language": "python",
   "name": "python3"
  },
  "language_info": {
   "codemirror_mode": {
    "name": "ipython",
    "version": 3
   },
   "file_extension": ".py",
   "mimetype": "text/x-python",
   "name": "python",
   "nbconvert_exporter": "python",
   "pygments_lexer": "ipython3",
   "version": "3.6.1"
  }
 },
 "nbformat": 4,
 "nbformat_minor": 2
}
